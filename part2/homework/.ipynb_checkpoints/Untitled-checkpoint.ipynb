{
 "cells": [
  {
   "cell_type": "code",
   "execution_count": 16,
   "id": "29f9689d",
   "metadata": {},
   "outputs": [],
   "source": [
    "import pandas as pd\n",
    "import numpy as np\n",
    "import matplotlib.pyplot as plt"
   ]
  },
  {
   "cell_type": "code",
   "execution_count": 17,
   "id": "6da30761",
   "metadata": {},
   "outputs": [],
   "source": [
    "# Load Data\n",
    "data = pd.read_csv('data/housing.csv')"
   ]
  },
  {
   "cell_type": "code",
   "execution_count": 18,
   "id": "2d52ce3f",
   "metadata": {},
   "outputs": [
    {
     "data": {
      "image/png": "[encoded data removed]",
      "text/plain": [
       "<Figure size 800x600 with 1 Axes>"
      ]
     },
     "metadata": {},
     "output_type": "display_data"
    },
    {
     "name": "stdout",
     "output_type": "stream",
     "text": [
      "Summary Statistics of 'median_house_value':\n",
      "count     20640.000000\n",
      "mean     206855.816909\n",
      "std      115395.615874\n",
      "min       14999.000000\n",
      "25%      119600.000000\n",
      "50%      179700.000000\n",
      "75%      264725.000000\n",
      "max      500001.000000\n",
      "Name: median_house_value, dtype: float64\n"
     ]
    }
   ],
   "source": [
    "# Display basic statistics of the 'median_house_value' variable\n",
    "median_house_value_stats = data['median_house_value'].describe()\n",
    "\n",
    "# Create a histogram to visualize the distribution\n",
    "plt.figure(figsize=(8, 6))\n",
    "plt.hist(data['median_house_value'], bins=50, color='blue', alpha=0.7)\n",
    "plt.title('Distribution of median_house_value')\n",
    "plt.xlabel('Median House Value')\n",
    "plt.ylabel('Frequency')\n",
    "plt.show()\n",
    "\n",
    "# Print summary statistics\n",
    "print(\"Summary Statistics of 'median_house_value':\")\n",
    "print(median_house_value_stats)"
   ]
  },
  {
   "cell_type": "code",
   "execution_count": 19,
   "id": "00e564e7",
   "metadata": {},
   "outputs": [],
   "source": [
    "# Filter the data based on 'ocean_proximity' column\n",
    "filtered_data = data[data['ocean_proximity'].isin(['<1H OCEAN', 'INLAND'])]\n",
    "\n",
    "# Select the desired columns\n",
    "selected_columns = [\n",
    "    'latitude',\n",
    "    'longitude',\n",
    "    'housing_median_age',\n",
    "    'total_rooms',\n",
    "    'total_bedrooms',\n",
    "    'population',\n",
    "    'households',\n",
    "    'median_income',\n",
    "    'median_house_value'\n",
    "]\n",
    "\n",
    "filtered_data = filtered_data[selected_columns]"
   ]
  },
  {
   "cell_type": "code",
   "execution_count": 20,
   "id": "1d6679d4",
   "metadata": {},
   "outputs": [
    {
     "name": "stdout",
     "output_type": "stream",
     "text": [
      "Missing values in each column:\n",
      "latitude                0\n",
      "longitude               0\n",
      "housing_median_age      0\n",
      "total_rooms             0\n",
      "total_bedrooms        157\n",
      "population              0\n",
      "households              0\n",
      "median_income           0\n",
      "median_house_value      0\n",
      "dtype: int64\n"
     ]
    }
   ],
   "source": [
    "# Q1\n",
    "# Check for missing values in the selected columns\n",
    "missing_values = filtered_data.isna().sum()\n",
    "\n",
    "# Print the count of missing values for each column\n",
    "print(\"Missing values in each column:\")\n",
    "print(missing_values)"
   ]
  },
  {
   "cell_type": "code",
   "execution_count": 21,
   "id": "0a3fcf3e",
   "metadata": {},
   "outputs": [
    {
     "name": "stdout",
     "output_type": "stream",
     "text": [
      "Median population: 1195.0\n"
     ]
    }
   ],
   "source": [
    "# Q2\n",
    "# Calculate the median for the 'population' variable\n",
    "population_median = filtered_data['population'].median()\n",
    "\n",
    "# Print the median value\n",
    "print(\"Median population:\", population_median)"
   ]
  },
  {
   "cell_type": "code",
   "execution_count": 22,
   "id": "452fd14f",
   "metadata": {},
   "outputs": [],
   "source": [
    "# Prepare and split the dataset\n",
    "# Shuffle the dataset with seed 42\n",
    "shuffled_data = filtered_data.sample(frac=1, random_state=42)\n",
    "\n",
    "# Split the data into train/val/test sets (60%/20%/20% distribution)\n",
    "train_data, temp_data = train_test_split(shuffled_data, test_size=0.4, random_state=42)\n",
    "val_data, test_data = train_test_split(temp_data, test_size=0.5, random_state=42)\n",
    "\n",
    "# Apply the log transformation to the 'median_house_value' variable\n",
    "train_data['median_house_value'] = np.log1p(train_data['median_house_value'])\n",
    "val_data['median_house_value'] = np.log1p(val_data['median_house_value'])\n",
    "test_data['median_house_value'] = np.log1p(test_data['median_house_value'])"
   ]
  },
  {
   "cell_type": "code",
   "execution_count": 24,
   "id": "f57d0668",
   "metadata": {},
   "outputs": [
    {
     "name": "stdout",
     "output_type": "stream",
     "text": [
      "RMSE (Fill with 0): 0.35\n",
      "RMSE (Fill with Mean): 0.35\n",
      "Filling with the mean gives a better RMSE.\n"
     ]
    }
   ],
   "source": [
    "# Q3\n",
    "from sklearn.linear_model import LinearRegression\n",
    "from sklearn.metrics import mean_squared_error\n",
    "import numpy as np\n",
    "\n",
    "# Helper function to calculate RMSE\n",
    "def rmse(y_true, y_pred):\n",
    "    return np.sqrt(mean_squared_error(y_true, y_pred))\n",
    "\n",
    "# Initialize Linear Regression models\n",
    "model_fill_with_zero = LinearRegression()\n",
    "model_fill_with_mean = LinearRegression()\n",
    "\n",
    "# Option 1: Fill missing values with 0\n",
    "train_data_fill_zero = train_data.fillna(0)\n",
    "val_data_fill_zero = val_data.fillna(0)\n",
    "\n",
    "# Option 2: Fill missing values with the mean (using training data only)\n",
    "mean_total_bedrooms = train_data['total_bedrooms'].mean()\n",
    "train_data_fill_mean = train_data.fillna(mean_total_bedrooms)\n",
    "val_data_fill_mean = val_data.fillna(mean_total_bedrooms)\n",
    "\n",
    "# Define the features and target variables\n",
    "X_train_fill_zero = train_data_fill_zero.drop(columns=['median_house_value'])\n",
    "y_train_fill_zero = train_data_fill_zero['median_house_value']\n",
    "\n",
    "X_val_fill_zero = val_data_fill_zero.drop(columns=['median_house_value'])\n",
    "y_val_fill_zero = val_data_fill_zero['median_house_value']\n",
    "\n",
    "X_train_fill_mean = train_data_fill_mean.drop(columns=['median_house_value'])\n",
    "y_train_fill_mean = train_data_fill_mean['median_house_value']\n",
    "\n",
    "X_val_fill_mean = val_data_fill_mean.drop(columns=['median_house_value'])\n",
    "y_val_fill_mean = val_data_fill_mean['median_house_value']\n",
    "\n",
    "# Train the models\n",
    "model_fill_with_zero.fit(X_train_fill_zero, y_train_fill_zero)\n",
    "model_fill_with_mean.fit(X_train_fill_mean, y_train_fill_mean)\n",
    "\n",
    "# Make predictions\n",
    "y_pred_fill_zero = model_fill_with_zero.predict(X_val_fill_zero)\n",
    "y_pred_fill_mean = model_fill_with_mean.predict(X_val_fill_mean)\n",
    "\n",
    "# Calculate RMSE for both options\n",
    "rmse_fill_zero = rmse(y_val_fill_zero, y_pred_fill_zero)\n",
    "rmse_fill_mean = rmse(y_val_fill_mean, y_pred_fill_mean)\n",
    "\n",
    "# Round the RMSE scores to 2 decimal digits\n",
    "rmse_fill_zero_rounded = round(rmse_fill_zero, 2)\n",
    "rmse_fill_mean_rounded = round(rmse_fill_mean, 2)\n",
    "\n",
    "print(f\"RMSE (Fill with 0): {rmse_fill_zero_rounded}\")\n",
    "print(f\"RMSE (Fill with Mean): {rmse_fill_mean_rounded}\")\n",
    "\n",
    "# Determine which option gives better RMSE\n",
    "if rmse_fill_zero < rmse_fill_mean:\n",
    "    print(\"Filling with 0 gives a better RMSE.\")\n",
    "else:\n",
    "    print(\"Filling with the mean gives a better RMSE.\")\n"
   ]
  },
  {
   "cell_type": "code",
   "execution_count": null,
   "id": "f1bb6934",
   "metadata": {},
   "outputs": [],
   "source": []
  }
 ],
 "metadata": {
  "kernelspec": {
   "display_name": "Python 3 (ipykernel)",
   "language": "python",
   "name": "python3"
  },
  "language_info": {
   "codemirror_mode": {
    "name": "ipython",
    "version": 3
   },
   "file_extension": ".py",
   "mimetype": "text/x-python",
   "name": "python",
   "nbconvert_exporter": "python",
   "pygments_lexer": "ipython3",
   "version": "3.9.18"
  }
 },
 "nbformat": 4,
 "nbformat_minor": 5
}
