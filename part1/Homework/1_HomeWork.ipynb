{
 "cells": [
  {
   "cell_type": "code",
   "execution_count": 1,
   "id": "dace58fc",
   "metadata": {},
   "outputs": [],
   "source": [
    "import pandas as pd\n",
    "import numpy as np"
   ]
  },
  {
   "cell_type": "code",
   "execution_count": 2,
   "id": "1c784c8d",
   "metadata": {},
   "outputs": [
    {
     "data": {
      "text/plain": [
       "'2.0.3'"
      ]
     },
     "execution_count": 2,
     "metadata": {},
     "output_type": "execute_result"
    }
   ],
   "source": [
    "#What's the version of Pandas that you installed?\n",
    "pd.__version__"
   ]
  },
  {
   "cell_type": "code",
   "execution_count": 3,
   "id": "02c71a5f",
   "metadata": {},
   "outputs": [],
   "source": [
    "# Load Data\n",
    "data = pd.read_csv('data/housing.csv')"
   ]
  },
  {
   "cell_type": "code",
   "execution_count": 4,
   "id": "937342a1",
   "metadata": {},
   "outputs": [
    {
     "name": "stdout",
     "output_type": "stream",
     "text": [
      "Data has: 10  columns\n"
     ]
    }
   ],
   "source": [
    "#How many columns are in the dataset?\n",
    "\n",
    "column_count = len(data.columns)\n",
    "print('Data has:', column_count,' columns')"
   ]
  },
  {
   "cell_type": "code",
   "execution_count": 5,
   "id": "5829e5e7",
   "metadata": {},
   "outputs": [
    {
     "name": "stdout",
     "output_type": "stream",
     "text": [
      "Columns with missing value:\n",
      "total_bedrooms    207\n",
      "dtype: int64\n"
     ]
    }
   ],
   "source": [
    "#Which columns in the dataset have missing values?\n",
    "\n",
    "missing_values = data.isna().sum()\n",
    "\n",
    "print('Columns with missing value:')\n",
    "print(missing_values[missing_values > 0])"
   ]
  },
  {
   "cell_type": "code",
   "execution_count": 6,
   "id": "70e57fea",
   "metadata": {},
   "outputs": [
    {
     "name": "stdout",
     "output_type": "stream",
     "text": [
      "Number of unique values in 'ocean_proximity' column: 5\n"
     ]
    }
   ],
   "source": [
    "#How many unique values does the ocean_proximity column have?\n",
    "\n",
    "\n",
    "unique_values_count = data['ocean_proximity'].nunique()\n",
    "\n",
    "print(\"Number of unique values in 'ocean_proximity' column:\", unique_values_count)"
   ]
  },
  {
   "cell_type": "code",
   "execution_count": 7,
   "id": "c9896006",
   "metadata": {},
   "outputs": [
    {
     "name": "stdout",
     "output_type": "stream",
     "text": [
      "Average median_house_value for houses near the bay: $ 259212.31179039303\n"
     ]
    }
   ],
   "source": [
    "#What's the average value of the median_house_value for the houses located near the bay?\n",
    "\n",
    "near_bay_data = data[data['ocean_proximity'] == 'NEAR BAY']\n",
    "\n",
    "average_median_house_value_near_bay = near_bay_data['median_house_value'].mean()\n",
    "\n",
    "print('Average median_house_value for houses near the bay: $', average_median_house_value_near_bay)"
   ]
  },
  {
   "cell_type": "code",
   "execution_count": 8,
   "id": "cdf37138",
   "metadata": {},
   "outputs": [
    {
     "name": "stdout",
     "output_type": "stream",
     "text": [
      "Initital AVG of 'total_bedrooms': 537.871\n",
      "AVG of 'total_bedrooms' after fillling the mising values: 537.871\n"
     ]
    }
   ],
   "source": [
    "'''\n",
    "1. Calculate the average of total_bedrooms column in the dataset.\n",
    "2. Use the fillna method to fill the missing values in total_bedrooms with the mean value from the previous step.\n",
    "3. Now, calculate the average of total_bedrooms again.\n",
    "4. Has it changed?\n",
    "'''\n",
    "# Step 1: Calculate the initial AVG of the 'total_bedrooms' column\n",
    "\n",
    "initial_avg_total_bedrooms = data['total_bedrooms'].mean()\n",
    "\n",
    "# Round the initial AVG to 3 decimal places\n",
    "initial_avg_total_bedrooms = round(initial_avg_total_bedrooms, 3)\n",
    "\n",
    "# Initial AVG\n",
    "print(\"Initital AVG of 'total_bedrooms':\", initial_avg_total_bedrooms)\n",
    "\n",
    "# Step 2: Mark the missing values in 'total_bedrooms' with the initial AVG\n",
    "data['total_bedrooms'].fillna(initial_avg_total_bedrooms, inplace = True)\n",
    "\n",
    "# Step 3: Calc the AVG of 'total_bedrooms' after the fillna\n",
    "avg_total_bedrooms_after_fillna = data['total_bedrooms'].mean()\n",
    "\n",
    "# Round the updated average to 3 decimal places\n",
    "avg_total_bedrooms_after_fillna = round(avg_total_bedrooms_after_fillna, 3)\n",
    "\n",
    "# Print the updated AVG\n",
    "print(\"AVG of 'total_bedrooms' after fillling the mising values:\", avg_total_bedrooms_after_fillna)\n",
    "\n"
   ]
  },
  {
   "cell_type": "code",
   "execution_count": 9,
   "id": "40bc8842",
   "metadata": {},
   "outputs": [
    {
     "name": "stdout",
     "output_type": "stream",
     "text": [
      "Value of the last element of w: 5.6992\n"
     ]
    }
   ],
   "source": [
    "'''\n",
    "1. Select all the options located on islands.\n",
    "2. Select only columns housing_median_age, total_rooms, total_bedrooms.\n",
    "3. Get the underlying NumPy array. Let's call it X.\n",
    "4. Compute matrix-matrix multiplication between the transpose of X and X. To get the transpose, use X.T. Let's call the result XTX.\n",
    "5. Compute the inverse of XTX.\n",
    "6. Create an array y with values [950, 1300, 800, 1000, 1300].\n",
    "7. Multiply the inverse of XTX with the transpose of X, and then multiply the result by y. Call the result w.\n",
    "8. What's the value of the last element of w?\n",
    "'''\n",
    "\n",
    "# Strep 1: Select options located on islands\n",
    "island_opt = data[data['ocean_proximity'] == 'ISLAND']\n",
    "\n",
    "# Step 2: Selecet columns houseing_median_age, total_rooms, total_bedrooms\n",
    "selected_col = island_opt[['housing_median_age', 'total_rooms', 'total_bedrooms']]\n",
    "\n",
    "# Step 3: Get the underlying NumPy array (X)\n",
    "X = selected_col.to_numpy()\n",
    "\n",
    "# Step 4: Compute matrix-matrix multiplication between the transpose of X and X (X T X)\n",
    "XTX = np.dot(X.T, X)\n",
    "\n",
    "# Step 5: Compute the inverse of XTX\n",
    "XTX_inverse = np.linalg.inv(XTX)\n",
    "\n",
    "# Step 6: Create an array y\n",
    "y = np.array([950, 1300, 800, 1000, 1300])\n",
    "\n",
    "# Step 7: Multiply the inversed matrix of XTX with the transpose of X, \n",
    "# lastly multiply by y to get the value of w\n",
    "w = np.dot(np.dot(XTX_inverse, X.T), y)\n",
    "\n",
    "# Step 8: Get the last element of w\n",
    "last_elm_of_w = w[-1]\n",
    "\n",
    "# Result\n",
    "# Round to 4\n",
    "last_elm_of_w = round(last_elm_of_w, 4)\n",
    "print(\"Value of the last element of w:\", last_elm_of_w)"
   ]
  }
 ],
 "metadata": {
  "kernelspec": {
   "display_name": "Python 3 (ipykernel)",
   "language": "python",
   "name": "python3"
  },
  "language_info": {
   "codemirror_mode": {
    "name": "ipython",
    "version": 3
   },
   "file_extension": ".py",
   "mimetype": "text/x-python",
   "name": "python",
   "nbconvert_exporter": "python",
   "pygments_lexer": "ipython3",
   "version": "3.9.18"
  }
 },
 "nbformat": 4,
 "nbformat_minor": 5
}
